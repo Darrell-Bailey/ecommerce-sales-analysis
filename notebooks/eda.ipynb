{
 "cells": [
  {
   "cell_type": "code",
   "execution_count": 2,
   "id": "2f26e198-83e8-433a-aa91-f4e422131b0b",
   "metadata": {},
   "outputs": [],
   "source": [
    "# Import Libraries\n",
    "import pandas as pd\n",
    "import numpy as np\n",
    "import matplotlib.pyplot as plt\n",
    "import seaborn as sns\n",
    "from scipy import stats"
   ]
  },
  {
   "cell_type": "code",
   "execution_count": 3,
   "id": "0d5d4d39-427f-417f-9857-5f9be0eccfb1",
   "metadata": {},
   "outputs": [
    {
     "name": "stdout",
     "output_type": "stream",
     "text": [
      "   Unnamed: 0                          order_id  \\\n",
      "0           0  e481f51cbdc54678b7cc49136f2d6af7   \n",
      "1           1  53cdb2fc8bc7dce0b6741e2150273451   \n",
      "2           2  47770eb9100c2d0c44946d9cf07ec65d   \n",
      "3           3  949d5b44dbf5de918fe9c16f97b45f8a   \n",
      "4           4  ad21c59c0840e6cb83a9ceb5573f8159   \n",
      "\n",
      "                        customer_id order_status order_purchase_timestamp  \\\n",
      "0  9ef432eb6251297304e76186b10a928d    delivered      2017-10-02 10:56:33   \n",
      "1  b0830fb4747a6c6d20dea0b8c802d7ef    delivered      2018-07-24 20:41:37   \n",
      "2  41ce2a54c0b03bf3443c3d931a367089    delivered      2018-08-08 08:38:49   \n",
      "3  f88197465ea7920adcdbec7375364d82    delivered      2017-11-18 19:28:06   \n",
      "4  8ab97904e6daea8866dbdbc4fb7aad2c    delivered      2018-02-13 21:18:39   \n",
      "\n",
      "     order_approved_at order_delivered_carrier_date  \\\n",
      "0  2017-10-02 11:07:15          2017-10-04 19:55:00   \n",
      "1  2018-07-26 03:24:27          2018-07-26 14:31:00   \n",
      "2  2018-08-08 08:55:23          2018-08-08 13:50:00   \n",
      "3  2017-11-18 19:45:59          2017-11-22 13:39:59   \n",
      "4  2018-02-13 22:20:29          2018-02-14 19:46:34   \n",
      "\n",
      "  order_delivered_customer_date order_estimated_delivery_date  \\\n",
      "0           2017-10-10 21:25:13                    2017-10-18   \n",
      "1           2018-08-07 15:27:45                    2018-08-13   \n",
      "2           2018-08-17 18:06:29                    2018-09-04   \n",
      "3           2017-12-02 00:28:42                    2017-12-15   \n",
      "4           2018-02-16 18:17:02                    2018-02-26   \n",
      "\n",
      "                 customer_unique_id  ...  product_category_name  \\\n",
      "0  7c396fd4830fd04220f754e42b4e5bff  ...  utilidades_domesticas   \n",
      "1  af07308b275d755c9edb36a90c618231  ...             perfumaria   \n",
      "2  3a653a41f6f9fc3d2a113cf8398680e8  ...             automotivo   \n",
      "3  7c142cf63193a1473d2e66489a9ae977  ...               pet_shop   \n",
      "4  72632f0f9dd73dfee390c9b22eb56dd6  ...              papelaria   \n",
      "\n",
      "  product_name_lenght product_description_lenght  product_photos_qty  \\\n",
      "0                40.0                      268.0                 4.0   \n",
      "1                29.0                      178.0                 1.0   \n",
      "2                46.0                      232.0                 1.0   \n",
      "3                59.0                      468.0                 3.0   \n",
      "4                38.0                      316.0                 4.0   \n",
      "\n",
      "  product_weight_g product_length_cm product_height_cm  product_width_cm  \\\n",
      "0            500.0              19.0               8.0              13.0   \n",
      "1            400.0              19.0              13.0              19.0   \n",
      "2            420.0              24.0              19.0              21.0   \n",
      "3            450.0              30.0              10.0              20.0   \n",
      "4            250.0              51.0              15.0              15.0   \n",
      "\n",
      "   TotalPrice YearMonth  \n",
      "0       29.99   2017-10  \n",
      "1      118.70   2018-07  \n",
      "2      159.90   2018-08  \n",
      "3       45.00   2017-11  \n",
      "4       19.90   2018-02  \n",
      "\n",
      "[5 rows x 29 columns]\n"
     ]
    }
   ],
   "source": [
    "# Load Cleaned Dataset\n",
    "df = pd.read_csv (r\"C:\\Users\\darre\\DataProjects\\data\\cleaned_ecommerce_data.csv\")\n",
    "\n",
    "# Derive TotalPrice and YearMonth\n",
    "df['TotalPrice'] = df['price'] * df['order_item_id']\n",
    "df['YearMonth'] = pd.to_datetime(df['order_purchase_timestamp']).dt.to_period('M').astype(str)\n",
    "\n",
    "# Display first few rows\n",
    "print(df.head())"
   ]
  }
 ],
 "metadata": {
  "kernelspec": {
   "display_name": "Python 3 (ipykernel)",
   "language": "python",
   "name": "python3"
  },
  "language_info": {
   "codemirror_mode": {
    "name": "ipython",
    "version": 3
   },
   "file_extension": ".py",
   "mimetype": "text/x-python",
   "name": "python",
   "nbconvert_exporter": "python",
   "pygments_lexer": "ipython3",
   "version": "3.13.1"
  }
 },
 "nbformat": 4,
 "nbformat_minor": 5
}
